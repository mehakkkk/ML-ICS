{
  "nbformat": 4,
  "nbformat_minor": 0,
  "metadata": {
    "colab": {
      "name": "KNN.ipynb",
      "provenance": [],
      "authorship_tag": "ABX9TyPneSN2IOo+g9W4+E6stwEU",
      "include_colab_link": true
    },
    "kernelspec": {
      "name": "python3",
      "display_name": "Python 3"
    },
    "language_info": {
      "name": "python"
    }
  },
  "cells": [
    {
      "cell_type": "markdown",
      "metadata": {
        "id": "view-in-github",
        "colab_type": "text"
      },
      "source": [
        "<a href=\"https://colab.research.google.com/github/mehakkkk/ML-ICS/blob/main/KNN.ipynb\" target=\"_parent\"><img src=\"https://colab.research.google.com/assets/colab-badge.svg\" alt=\"Open In Colab\"/></a>"
      ]
    },
    {
      "cell_type": "code",
      "source": [
        "import numpy as np\n",
        "import operator\n",
        "import math"
      ],
      "metadata": {
        "id": "Wbzkq7cv0hJ9"
      },
      "execution_count": 1,
      "outputs": []
    },
    {
      "cell_type": "code",
      "execution_count": 2,
      "metadata": {
        "id": "IHxzNTulw1Zy"
      },
      "outputs": [],
      "source": [
        "train = [[2,4,'positive'],[4,2,'negative'],[6,2,'negative'],[4,4,'positive'],[6,4,'positive'],[4,6,'negative']]"
      ]
    },
    {
      "cell_type": "code",
      "source": [
        "tests = [[6,6]]"
      ],
      "metadata": {
        "id": "MsZ-8-TC16rH"
      },
      "execution_count": 3,
      "outputs": []
    },
    {
      "cell_type": "code",
      "source": [
        "def eucledian_distance(train,test,length):\n",
        "    dist =0\n",
        "    for x in range(length):\n",
        "      dist += pow((train[x]-test[x]),2)\n",
        "    return math.sqrt(dist)"
      ],
      "metadata": {
        "id": "nU5HfMKKyNWt"
      },
      "execution_count": 4,
      "outputs": []
    },
    {
      "cell_type": "code",
      "source": [
        "def KNeighbor(test,train,k):\n",
        "  distance = []\n",
        "  length = len(test)-1\n",
        "  for x in range(len(train)):\n",
        "    dist = eucledian_distance(train[x],test,length)\n",
        "    distance.append((train[x],dist))\n",
        "\n",
        "  #sort distance\n",
        "  distance.sort(key = operator.itemgetter(1))\n",
        "  neighbor =[]\n",
        "  #get k-nearest neighbors\n",
        "  for i in range(k):\n",
        "    neighbor.append(distance[i][0])\n",
        "  return neighbor"
      ],
      "metadata": {
        "id": "Ahbw_M_80oh9"
      },
      "execution_count": 5,
      "outputs": []
    },
    {
      "cell_type": "code",
      "source": [
        "#predict category/class\n",
        "def predict(neighbor):\n",
        "  vote_class = {}\n",
        "  for x in range(len(neighbor)):\n",
        "    response = neighbor[x][-1]\n",
        "    if response in vote_class:\n",
        "      vote_class[response] += 1\n",
        "    else:\n",
        "      vote_class[response] = 1\n",
        "\n",
        "  #sort vote class based on response\n",
        "  sorted_vote = sorted(vote_class.items(),key=operator.itemgetter(1),reverse=True)\n",
        "  return sorted_vote[0][0]"
      ],
      "metadata": {
        "id": "togJUn2E1R2_"
      },
      "execution_count": 6,
      "outputs": []
    },
    {
      "cell_type": "code",
      "source": [
        "for test in tests:\n",
        "  print(test)\n",
        "  neighbor = KNeighbor(test,train,3)\n",
        "  print(neighbor)\n",
        "  result = predict(neighbor)\n",
        "  print(\" belongs to: \"+result)"
      ],
      "metadata": {
        "colab": {
          "base_uri": "https://localhost:8080/"
        },
        "id": "NfXU7HlV11hT",
        "outputId": "c811a114-6523-4165-a23f-c360155e0443"
      },
      "execution_count": 7,
      "outputs": [
        {
          "output_type": "stream",
          "name": "stdout",
          "text": [
            "[6, 6]\n",
            "[[6, 2, 'negative'], [6, 4, 'positive'], [4, 2, 'negative']]\n",
            " belongs to: negative\n"
          ]
        }
      ]
    },
    {
      "cell_type": "code",
      "source": [
        ""
      ],
      "metadata": {
        "id": "GGPygpkz2M5A"
      },
      "execution_count": null,
      "outputs": []
    }
  ]
}