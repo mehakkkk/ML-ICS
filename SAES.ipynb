{
  "nbformat": 4,
  "nbformat_minor": 0,
  "metadata": {
    "colab": {
      "name": "SAES.ipynb",
      "provenance": [],
      "authorship_tag": "ABX9TyOSsmrdbFx32OxNxoxbBCLU",
      "include_colab_link": true
    },
    "kernelspec": {
      "name": "python3",
      "display_name": "Python 3"
    },
    "language_info": {
      "name": "python"
    }
  },
  "cells": [
    {
      "cell_type": "markdown",
      "metadata": {
        "id": "view-in-github",
        "colab_type": "text"
      },
      "source": [
        "<a href=\"https://colab.research.google.com/github/mehakkkk/ML-ICS/blob/main/SAES.ipynb\" target=\"_parent\"><img src=\"https://colab.research.google.com/assets/colab-badge.svg\" alt=\"Open In Colab\"/></a>"
      ]
    },
    {
      "cell_type": "code",
      "execution_count": null,
      "metadata": {
        "id": "OmzsV9Hyo-tm"
      },
      "outputs": [],
      "source": [
        "import numpy as np"
      ]
    },
    {
      "cell_type": "code",
      "source": [
        "def bin_to_dec(x):\n",
        "  return int(x, 2)\n",
        "def dec_to_bin(x):\n",
        "  return bin(x).replace(\"0b\",\"\")\n",
        "def hex_to_bin(x):\n",
        "  ret = dec_to_bin(int(x, 16))\n",
        "  ret = assert_value_size(ret, len(x)*4)\n",
        "  return ret\n",
        "def bin_to_hex(x):\n",
        "  return hex(bin_to_dec(x))"
      ],
      "metadata": {
        "id": "--8b4UXLpEYn"
      },
      "execution_count": null,
      "outputs": []
    },
    {
      "cell_type": "code",
      "source": [
        "def assert_value_size(x, s):\n",
        "  while len(x) < s:\n",
        "    x = \"0\" + x\n",
        "  return x"
      ],
      "metadata": {
        "id": "mGNppC5mpH6y"
      },
      "execution_count": null,
      "outputs": []
    },
    {
      "cell_type": "code",
      "source": [
        "def xor(a, b):\n",
        "  ret = \"\"\n",
        "  for i in range(len(a)):\n",
        "    if a[i] == b[i]: ret += \"0\"\n",
        "    else: ret += \"1\"\n",
        "  return ret"
      ],
      "metadata": {
        "id": "lQRgh8QApJ3q"
      },
      "execution_count": null,
      "outputs": []
    },
    {
      "cell_type": "code",
      "source": [
        "def split_str(val):\n",
        "  half = len(val)//2\n",
        "  return val[:half], val[half:]"
      ],
      "metadata": {
        "id": "8Bm3K_NopLog"
      },
      "execution_count": null,
      "outputs": []
    },
    {
      "cell_type": "code",
      "source": [
        "def get_indices(nib):\n",
        "  r = bin_to_dec(nib[:2])\n",
        "  c = bin_to_dec(nib[2:])\n",
        "  return r, c"
      ],
      "metadata": {
        "id": "ms-rK_YbpNpl"
      },
      "execution_count": null,
      "outputs": []
    },
    {
      "cell_type": "code",
      "source": [
        "def nibble_list(x):\n",
        "  x = assert_value_size(x, 16)\n",
        "  ret = [x[i:i+4] for i in range(0, len(x), 4)]\n",
        "  return ret\n",
        "\n",
        "def list_to_mat(l):\n",
        "  return [\n",
        "      [l[0], l[2]],\n",
        "      [l[1], l[3]]\n",
        "  ]\n",
        "\n",
        "def mat_to_list(m):\n",
        "  return [m[0][0], m[1][0], m[0][1], m[1][1]]"
      ],
      "metadata": {
        "id": "3SXeIYlepPM4"
      },
      "execution_count": null,
      "outputs": []
    },
    {
      "cell_type": "code",
      "source": [
        "def rot_nib(val):\n",
        "  half = len(val)//2\n",
        "  return val[half:] + val[:half]"
      ],
      "metadata": {
        "id": "66FfxUmGpSDF"
      },
      "execution_count": null,
      "outputs": []
    },
    {
      "cell_type": "code",
      "source": [
        "def mul_nib(nib1, nib2):\n",
        "  p1 = [int(c) for c in nib1]\n",
        "  p2 = [int(c) for c in nib2]\n",
        "  ret = np.polymul(p1, p2)\n",
        "  ret = [str(c) for c in ret]\n",
        "  return \"\".join(ret)\n",
        "\n",
        "def add_nib(nib1, nib2):\n",
        "  p1 = [int(c) for c in nib1]\n",
        "  p2 = [int(c) for c in nib2]\n",
        "  ret = np.polyadd(p1, p2)\n",
        "  ret = [c % 2 for c in ret]\n",
        "  _, r = np.polydiv(ret, [1, 0, 0, 1, 1])\n",
        "  nib = [str(int(c%2)) for c in r]\n",
        "  nib = \"\".join(nib)\n",
        "  while len(nib) > 4:\n",
        "    nib = nib[1:]\n",
        "  nib = assert_value_size(nib, 4)\n",
        "  return nib"
      ],
      "metadata": {
        "id": "k3nCKEwgpYcr"
      },
      "execution_count": null,
      "outputs": []
    },
    {
      "cell_type": "code",
      "source": [
        "def gen_inv_s_box(s):\n",
        "  ret = [r[:] for r in s]\n",
        "  for i in range(4):\n",
        "    for j in range(4):\n",
        "      r, c = get_indices(hex_to_bin(s[i][j]))\n",
        "      ret[r][c] = bin_to_hex(assert_value_size(dec_to_bin(i), 2) + assert_value_size(dec_to_bin(j), 2))[2:]\n",
        "  return ret"
      ],
      "metadata": {
        "id": "_eUlZhrOpaMF"
      },
      "execution_count": null,
      "outputs": []
    },
    {
      "cell_type": "code",
      "source": [
        "S = [\n",
        "    [\"1\", \"2\", \"3\", \"4\"],\n",
        "     [\"5\", \"6\", \"7\", \"8\"],\n",
        "     [\"9\", \"A\", \"B\", \"C\"],\n",
        "     [\"D\", \"E\", \"F\", \"0\"]\n",
        "]\n",
        "INV_S = gen_inv_s_box(S)\n",
        "M = [\n",
        "     [\"1\", \"4\"],\n",
        "     [\"4\", \"1\"]\n",
        "]\n",
        "INV_M = [\n",
        "    [\"9\", \"2\"],\n",
        "    [\"2\", \"9\"]\n",
        "]\n",
        "print(INV_S)"
      ],
      "metadata": {
        "colab": {
          "base_uri": "https://localhost:8080/"
        },
        "id": "49xwsZP5pgEe",
        "outputId": "f8d2ba7f-bea4-4d93-ee19-2b41f423ffec"
      },
      "execution_count": null,
      "outputs": [
        {
          "output_type": "stream",
          "name": "stdout",
          "text": [
            "[['f', '0', '1', '2'], ['3', '4', '5', '6'], ['7', '8', '9', 'a'], ['b', 'c', 'd', 'e']]\n"
          ]
        }
      ]
    },
    {
      "cell_type": "code",
      "source": [
        "def sub_nib(x, s):\n",
        "  ret = \"\"\n",
        "  for i in range(0, len(x), 4):\n",
        "    nib = x[i:i+4] \n",
        "    r, c = get_indices(nib)\n",
        "    ret += hex_to_bin(s[r][c])\n",
        "  return ret\n",
        "\n",
        "def sub_nibs(x, s):\n",
        "  for i in range(len(x)):\n",
        "    for j in range(len(x[i])):\n",
        "      x[i][j] = sub_nib(x[i][j], s)\n",
        "  return x"
      ],
      "metadata": {
        "id": "tt_W1QGppk9z"
      },
      "execution_count": null,
      "outputs": []
    },
    {
      "cell_type": "code",
      "source": [
        "def mixcol(A, B):\n",
        "  ret = [\n",
        "      [None, None],\n",
        "      [None, None]\n",
        "  ]\n",
        "  for i in [0, 1]:\n",
        "    for j in [0, 1]:\n",
        "      ret[i][j] = add_nib(mul_nib(A[i][0], B[0][j]), mul_nib(A[i][1], B[1][j]))\n",
        "  return ret"
      ],
      "metadata": {
        "id": "W4fQvnJ_pn_-"
      },
      "execution_count": null,
      "outputs": []
    },
    {
      "cell_type": "code",
      "source": [
        "def shift_row(state):\n",
        "  state[1][0], state[1][1] = state[1][1], state[1][0]\n",
        "  return state"
      ],
      "metadata": {
        "id": "gUlb91Q_prCG"
      },
      "execution_count": null,
      "outputs": []
    },
    {
      "cell_type": "code",
      "source": [
        "def add_round_key(state, key):\n",
        "  k_mat = list_to_mat(nibble_list(key))\n",
        "  for i in range(2):\n",
        "    for j in range(2):\n",
        "      state[i][j] = xor(state[i][j], k_mat[i][j])\n",
        "  return state"
      ],
      "metadata": {
        "id": "08pKMZa2pt9F"
      },
      "execution_count": null,
      "outputs": []
    },
    {
      "cell_type": "code",
      "source": [
        "def get_subkey(prev_key, t):\n",
        "  w0, w1 = split_str(prev_key)\n",
        "  w2 = w0\n",
        "  w2 = xor(w2, t)\n",
        "  w2 = xor(w2, sub_nib(rot_nib(w1), S))\n",
        "  w3 = xor(w2, w1)\n",
        "  return w2 + w3"
      ],
      "metadata": {
        "id": "BEds-IEDpv9I"
      },
      "execution_count": null,
      "outputs": []
    },
    {
      "cell_type": "code",
      "source": [
        "def gen_subkeys(key):\n",
        "  key0 = key\n",
        "  key1 = get_subkey(key0, hex_to_bin(\"80\"))\n",
        "  key2 = get_subkey(key1, hex_to_bin(\"60\"))\n",
        "  return key0, key1, key2"
      ],
      "metadata": {
        "id": "t-xyG23-pyJi"
      },
      "execution_count": null,
      "outputs": []
    },
    {
      "cell_type": "code",
      "source": [
        "def encrypt(plaintext, key):\n",
        "  key0, key1, key2 = gen_subkeys(key)\n",
        "  state = list_to_mat(nibble_list(plaintext))\n",
        "\n",
        "  # Round 0\n",
        "  state = add_round_key(state, key0)\n",
        "\n",
        "  #Round 1\n",
        "  state = sub_nibs(state, S)\n",
        "  state = shift_row(state)\n",
        "  state = mixcol(M, state)\n",
        "  state = add_round_key(state, key1)\n",
        "\n",
        "  # Round 2\n",
        "  state = sub_nibs(state, S)\n",
        "  state = shift_row(state)\n",
        "  state = add_round_key(state, key2)\n",
        "\n",
        "\n",
        "  ciphertext = \"\".join(mat_to_list(state))\n",
        "\n",
        "  return ciphertext"
      ],
      "metadata": {
        "id": "e-kmACW_p0Q8"
      },
      "execution_count": null,
      "outputs": []
    },
    {
      "cell_type": "code",
      "source": [
        "def decrypt(ciphertext, key):\n",
        "  key0, key1, key2 = gen_subkeys(key)\n",
        "  state = list_to_mat(nibble_list(ciphertext))\n",
        "\n",
        "  # Inv round 2\n",
        "  state = add_round_key(state, key2)\n",
        "  state = shift_row(state)\n",
        "  state = sub_nibs(state, INV_S)\n",
        "\n",
        "  # Inv round 1\n",
        "  state = add_round_key(state, key1)\n",
        "  state = mixcol(INV_M, state)\n",
        "  state = shift_row(state)\n",
        "  state = sub_nibs(state, INV_S)\n",
        "\n",
        "  # Inv round 0\n",
        "  state = add_round_key(state, key0)\n",
        "\n",
        "  plaintext = \"\".join(mat_to_list(state))\n",
        "  return plaintext"
      ],
      "metadata": {
        "id": "fyeaQL3bp5Dv"
      },
      "execution_count": null,
      "outputs": []
    },
    {
      "cell_type": "code",
      "source": [
        "plaintext = hex_to_bin(\"BC78\")\n",
        "key = hex_to_bin(\"2B85\")"
      ],
      "metadata": {
        "id": "0gSBzFd0p7pl"
      },
      "execution_count": null,
      "outputs": []
    },
    {
      "cell_type": "code",
      "source": [
        "c = encrypt(plaintext, key)\n",
        "p = decrypt(c, key)"
      ],
      "metadata": {
        "id": "XPf5Bk7Fp9-m"
      },
      "execution_count": null,
      "outputs": []
    },
    {
      "cell_type": "code",
      "source": [
        "assert(p == plaintext)"
      ],
      "metadata": {
        "id": "bi2YpnESqAJK"
      },
      "execution_count": null,
      "outputs": []
    },
    {
      "cell_type": "code",
      "source": [
        ""
      ],
      "metadata": {
        "id": "Wp3GWHFkqCXS"
      },
      "execution_count": null,
      "outputs": []
    }
  ]
}