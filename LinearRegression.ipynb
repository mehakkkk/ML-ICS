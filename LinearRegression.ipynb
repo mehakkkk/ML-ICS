{
  "nbformat": 4,
  "nbformat_minor": 0,
  "metadata": {
    "colab": {
      "name": "LinearRegression.ipynb",
      "provenance": [],
      "authorship_tag": "ABX9TyNBfY3rIxxIhNR4Le11i0h0",
      "include_colab_link": true
    },
    "kernelspec": {
      "name": "python3",
      "display_name": "Python 3"
    },
    "language_info": {
      "name": "python"
    }
  },
  "cells": [
    {
      "cell_type": "markdown",
      "metadata": {
        "id": "view-in-github",
        "colab_type": "text"
      },
      "source": [
        "<a href=\"https://colab.research.google.com/github/mehakkkk/ML-ICS/blob/main/LinearRegression.ipynb\" target=\"_parent\"><img src=\"https://colab.research.google.com/assets/colab-badge.svg\" alt=\"Open In Colab\"/></a>"
      ]
    },
    {
      "cell_type": "code",
      "execution_count": null,
      "metadata": {
        "id": "EubolTyB-1Xs"
      },
      "outputs": [],
      "source": [
        "import numpy as np\n",
        "import matplotlib.pyplot as plt\n",
        "import math"
      ]
    },
    {
      "cell_type": "code",
      "source": [
        "def getCost(Y,Y_pred):\n",
        "  m = len(Y)\n",
        "  return (1/2*m)*np.sum((Y_pred-Y)**2)"
      ],
      "metadata": {
        "id": "Jx4zzHlV_9DN"
      },
      "execution_count": null,
      "outputs": []
    },
    {
      "cell_type": "code",
      "source": [
        "def getPrediction(a,b,X,Y):\n",
        "  Y_pred = np.array([])\n",
        "  for x in X:\n",
        "    Y_pred = np.append(Y_pred,a+b*x)\n",
        "  return Y_pred"
      ],
      "metadata": {
        "id": "EoGNQaLXAHsj"
      },
      "execution_count": null,
      "outputs": []
    },
    {
      "cell_type": "code",
      "source": [
        "def gradientDescent(a,b,alpha,Y_pred,Y,X):\n",
        "  m = len(X)\n",
        "  a = a-(alpha/m)*np.sum((Y_pred-Y)*X)\n",
        "  b = b-(alpha/m)*np.sum((Y_pred-Y)*X)\n",
        "  return a,b"
      ],
      "metadata": {
        "id": "ohBx4SGAAYqV"
      },
      "execution_count": null,
      "outputs": []
    },
    {
      "cell_type": "code",
      "source": [
        "X = np.array([10,9,2,15,10,16,11,16])\n",
        "Y = np.array([95,80,10,50,45,98,38,93])"
      ],
      "metadata": {
        "id": "uRr0PFxaAs_S"
      },
      "execution_count": null,
      "outputs": []
    },
    {
      "cell_type": "code",
      "source": [
        "alpha = 0.01\n",
        "a = 0\n",
        "b = 0\n",
        "Y_pred = getPrediction(a,b,X,Y)\n",
        "cost = getCost(Y,Y_pred)\n",
        "a,b = gradientDescent(a,b,alpha,Y_pred,Y,X)\n",
        "\n",
        "while True:\n",
        "  prevCost = cost\n",
        "  Y_pred = getPrediction(a,b,X,Y)\n",
        "  cost = getCost(Y,Y_pred)\n",
        "  a,b = gradientDescent(a,b,alpha,Y_pred,Y,X)\n",
        "  if cost/prevCost > 0.9999:\n",
        "    break\n",
        "\n",
        "print(a,b)\n",
        "graph = plt.figure(\"Best Fit Line\")\n",
        "plt.scatter(X,Y,c='b')\n",
        "plt.plot(X,Y_pred,c='g')\n",
        "print(graph.show())\n"
      ],
      "metadata": {
        "colab": {
          "base_uri": "https://localhost:8080/",
          "height": 299
        },
        "id": "qcsQux5hA7CO",
        "outputId": "35934630-9579-4a5d-8bbf-62f8cb59f5fe"
      },
      "execution_count": null,
      "outputs": [
        {
          "output_type": "stream",
          "name": "stdout",
          "text": [
            "5.171465410733807 5.171465410733807\n",
            "None\n"
          ]
        },
        {
          "output_type": "display_data",
          "data": {
            "text/plain": [
              "<Figure size 432x288 with 1 Axes>"
            ],
            "image/png": "[encoded data removed]"
          },
          "metadata": {
            "needs_background": "light"
          }
        }
      ]
    },
    {
      "cell_type": "code",
      "source": [
        ""
      ],
      "metadata": {
        "id": "ODZl0Ei5Bfze"
      },
      "execution_count": null,
      "outputs": []
    }
  ]
}