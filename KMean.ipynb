{
  "nbformat": 4,
  "nbformat_minor": 0,
  "metadata": {
    "colab": {
      "name": "KMean.ipynb",
      "provenance": [],
      "authorship_tag": "ABX9TyO9ThnYk8rxQTvLo5hSWxfA",
      "include_colab_link": true
    },
    "kernelspec": {
      "name": "python3",
      "display_name": "Python 3"
    },
    "language_info": {
      "name": "python"
    }
  },
  "cells": [
    {
      "cell_type": "markdown",
      "metadata": {
        "id": "view-in-github",
        "colab_type": "text"
      },
      "source": [
        "<a href=\"https://colab.research.google.com/github/mehakkkk/ML-ICS/blob/main/KMean.ipynb\" target=\"_parent\"><img src=\"https://colab.research.google.com/assets/colab-badge.svg\" alt=\"Open In Colab\"/></a>"
      ]
    },
    {
      "cell_type": "code",
      "source": [
        "import math\n",
        "import numpy as np\n",
        "import pandas as pd\n",
        "import seaborn as sns"
      ],
      "metadata": {
        "id": "pxNFsvyc58Yt"
      },
      "execution_count": 7,
      "outputs": []
    },
    {
      "cell_type": "code",
      "execution_count": 8,
      "metadata": {
        "colab": {
          "base_uri": "https://localhost:8080/"
        },
        "id": "qB3F9siq4YVX",
        "outputId": "16685856-881b-4d41-9f92-96efb9ba0e47"
      },
      "outputs": [
        {
          "output_type": "execute_result",
          "data": {
            "text/plain": [
              "list"
            ]
          },
          "metadata": {},
          "execution_count": 8
        }
      ],
      "source": [
        "points = [\n",
        "          (0.1, 0.6),\n",
        "          (0.15, 0.71),\n",
        "          (0.08,0.9),\n",
        "          (0.16, 0.85),\n",
        "          (0.2,0.3),\n",
        "          (0.25,0.5),\n",
        "          (0.24,0.1),\n",
        "          (0.3,0.2)\n",
        "]\n",
        "type(points)"
      ]
    },
    {
      "cell_type": "code",
      "source": [
        "class KMeans:\n",
        "  #constructor\n",
        "  def __init__(self,k):\n",
        "    self.k = k\n",
        "  \n",
        "  def distance(self,x,y):\n",
        "    return math.fabs(y[0]-x[0])+math.fabs(y[1]-x[1])\n",
        "\n",
        "  def fit(self,points,centroids):\n",
        "    prev_clusters = None\n",
        "    clusters = [set() for _ in range(self.k)]\n",
        "\n",
        "    while clusters != prev_clusters:\n",
        "      prev_clusters = clusters\n",
        "      for p in points:\n",
        "        idx = 0\n",
        "        for i in range(self.k):\n",
        "          if self.distance(p,centroids[i]) < self.distance(p,centroids[idx]):\n",
        "            idx = i\n",
        "        clusters[idx].add(p)\n",
        "      for i in range(self.k):\n",
        "        centroids[i] = np.mean(list(clusters[i]),axis =0)\n",
        "    return clusters,centroids\n",
        "\n",
        "  #classify points \n",
        "  def classify(self,clusters,centroids):\n",
        "    df = pd.DataFrame()\n",
        "    X=[]\n",
        "    Y=[]\n",
        "    category=[]\n",
        "    for i in range(len(clusters)):\n",
        "      for p in clusters[i]:\n",
        "        X.append(p[0])\n",
        "        Y.append(p[1])\n",
        "        category.append(f'{i}')\n",
        "\n",
        "    for c in centroids:\n",
        "      X.append(c[0])\n",
        "      Y.append(c[1])\n",
        "      category.append('centroid')\n",
        "\n",
        "    df['x'] = X\n",
        "    df['y'] = Y\n",
        "    df['category'] = category\n",
        "\n",
        "    #plot all the points\n",
        "    sns.scatterplot(data=df,x='x',y='y',hue='category')\n",
        "\n"
      ],
      "metadata": {
        "id": "tGkTTLzz5V23"
      },
      "execution_count": 12,
      "outputs": []
    },
    {
      "cell_type": "code",
      "source": [
        "model = KMeans(2)"
      ],
      "metadata": {
        "id": "n-yV8Eoz7vi1"
      },
      "execution_count": 13,
      "outputs": []
    },
    {
      "cell_type": "code",
      "source": [
        "clusters, centroids = model.fit(points, centroids = [(0.1, 0.6),(0.3,0.2)])"
      ],
      "metadata": {
        "id": "b1WrWsh49D5M"
      },
      "execution_count": 14,
      "outputs": []
    },
    {
      "cell_type": "code",
      "source": [
        "model.classify(clusters,centroids)"
      ],
      "metadata": {
        "colab": {
          "base_uri": "https://localhost:8080/",
          "height": 279
        },
        "id": "I-qqHwli9UJM",
        "outputId": "4fa4c0fc-19fb-457c-84f3-47c5fe5993f5"
      },
      "execution_count": 15,
      "outputs": [
        {
          "output_type": "display_data",
          "data": {
            "text/plain": [
              "<Figure size 432x288 with 1 Axes>"
            ],
            "image/png": "[encoded data removed]"
          },
          "metadata": {
            "needs_background": "light"
          }
        }
      ]
    },
    {
      "cell_type": "code",
      "source": [
        ""
      ],
      "metadata": {
        "id": "Zlq838sl-bJ9"
      },
      "execution_count": null,
      "outputs": []
    }
  ]
}