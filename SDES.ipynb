{
  "nbformat": 4,
  "nbformat_minor": 0,
  "metadata": {
    "colab": {
      "name": "SDES.ipynb",
      "provenance": [],
      "authorship_tag": "ABX9TyMDqjZ8YZNkHqBDqARDMMY0",
      "include_colab_link": true
    },
    "kernelspec": {
      "name": "python3",
      "display_name": "Python 3"
    },
    "language_info": {
      "name": "python"
    }
  },
  "cells": [
    {
      "cell_type": "markdown",
      "metadata": {
        "id": "view-in-github",
        "colab_type": "text"
      },
      "source": [
        "<a href=\"https://colab.research.google.com/github/mehakkkk/ML-ICS/blob/main/SDES.ipynb\" target=\"_parent\"><img src=\"https://colab.research.google.com/assets/colab-badge.svg\" alt=\"Open In Colab\"/></a>"
      ]
    },
    {
      "cell_type": "code",
      "execution_count": null,
      "metadata": {
        "colab": {
          "base_uri": "https://localhost:8080/"
        },
        "id": "IIXeneQjjYg5",
        "outputId": "4f5b78f8-5dec-43cf-be57-cad74f638f9d"
      },
      "outputs": [
        {
          "output_type": "stream",
          "name": "stdout",
          "text": [
            "Enter a 10-bit key: 1110001101\n",
            "Enter 8-bit plaintext: 11010101\n",
            "First Permutation\n",
            "1011011010\n",
            "Left key 10110\n",
            "Right key 11010\n",
            "*****\n",
            "First key\n",
            "11001110\n",
            "*****\n",
            "Second key\n",
            "11001101\n",
            "Initial Permutation 11011100\n",
            "Ciphertext: 11111101\n"
          ]
        }
      ],
      "source": [
        "P10 = (3, 5, 2, 7, 4, 10, 1, 9, 8, 6)\n",
        "P8 = (6, 3, 7, 4, 8, 5, 10, 9)\n",
        "P4 = (2, 4, 3, 1)\n",
        "\n",
        "IP = (2, 6, 3, 1, 4, 8, 5, 7)\n",
        "IPi = (4, 1, 3, 5, 7, 2, 8, 6)\n",
        "\n",
        "E = (4, 1, 2, 3, 2, 3, 4, 1)\n",
        "\n",
        "S0 = [\n",
        "        [1, 0, 3, 2],\n",
        "        [3, 2, 1, 0],\n",
        "        [0, 2, 1, 3],\n",
        "        [3, 1, 3, 2]\n",
        "     ]\n",
        "\n",
        "S1 = [\n",
        "        [0, 1, 2, 3],\n",
        "        [2, 0, 1, 3],\n",
        "        [3, 0, 1, 0],\n",
        "        [2, 1, 0, 3]\n",
        "     ]\n",
        "\n",
        "def permutation(pattern, key):\n",
        "    permuted = \"\"\n",
        "\n",
        "    for i in pattern:\n",
        "        permuted += key[i-1]\n",
        "\n",
        "    return permuted\n",
        "\n",
        "def generate_first(left, right):\n",
        "    left = left[1:] + left[:1]\n",
        "    right = right[1:] + right[:1]\n",
        "    key = left + right\n",
        "\n",
        "    return permutation(P8, key)\n",
        "\n",
        "def generate_second(left, right):\n",
        "    left = left[3:] + left[:3]\n",
        "    right = right[3:] + right[:3]\n",
        "    key = left + right\n",
        "\n",
        "    return permutation(P8, key)\n",
        "\n",
        "def transform(right, key):\n",
        "    extended = permutation(E, right)\n",
        "    xor_cipher = bin(int(extended, 2) ^ int(key, 2))[2:].zfill(8)\n",
        "    xor_left = xor_cipher[:4]\n",
        "    xor_right = xor_cipher[4:]\n",
        "\n",
        "    new_left = Sbox(xor_left, S0)\n",
        "    new_right = Sbox(xor_right, S1)\n",
        "\n",
        "    return permutation(P4, new_left + new_right)\n",
        "\n",
        "def Sbox(data, box):\n",
        "    row = int(data[0] + data[3], 2)\n",
        "    column = int(data[1] + data[2], 2)\n",
        "\n",
        "    return bin(box[row][column])[2:].zfill(4)\n",
        "\n",
        "def encrypt(left, right, key):\n",
        "    cipher = int(left, 2) ^ int(transform(right, key), 2)\n",
        "\n",
        "    return right, bin(cipher)[2:].zfill(4)\n",
        "\n",
        "key = input(\"Enter a 10-bit key: \")\n",
        "if len(key) != 10:\n",
        "    raise Exception(\"Check the input\")\n",
        "\n",
        "plaintext = input(\"Enter 8-bit plaintext: \")\n",
        "if len(plaintext) != 8:\n",
        "    raise Exception(\"Check the input\")\n",
        "\n",
        "p10key = permutation(P10, key)\n",
        "print(\"First Permutation\")\n",
        "print(p10key)\n",
        "left_key = p10key[:len(p10key)//2]\n",
        "print(\"Left key\",left_key)\n",
        "right_key = p10key[len(p10key)//2:]\n",
        "print(\"Right key\",right_key)\n",
        "first_key = generate_first(left_key, right_key)\n",
        "print(\"*****\")\n",
        "print(\"First key\")\n",
        "print(first_key)\n",
        "second_key = generate_second(left_key, right_key)\n",
        "print(\"*****\")\n",
        "print(\"Second key\")\n",
        "print(second_key)\n",
        "initial_permutation = permutation(IP, plaintext)\n",
        "print(\"Initial Permutation\",initial_permutation)\n",
        "left_data = initial_permutation[:len(initial_permutation)//2]\n",
        "right_data = initial_permutation[len(initial_permutation)//2:]\n",
        "\n",
        "left, right = encrypt(left_data, right_data, first_key)\n",
        "left, right = encrypt(left, right, second_key)\n",
        "\n",
        "print(\"Ciphertext:\", permutation(IPi, left + right))"
      ]
    },
    {
      "cell_type": "code",
      "source": [
        ""
      ],
      "metadata": {
        "id": "OuK7tgPvjdH2"
      },
      "execution_count": null,
      "outputs": []
    }
  ]
}